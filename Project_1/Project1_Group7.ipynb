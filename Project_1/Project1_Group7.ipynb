{
 "cells": [
  {
   "cell_type": "markdown",
   "id": "34a62daa-eafc-4812-ab2d-4ffe8af1b2c1",
   "metadata": {
    "id": "34a62daa-eafc-4812-ab2d-4ffe8af1b2c1"
   },
   "source": [
    "# Project 1\n",
    "\n",
    "Team 7:\n",
    "- Sai Prasath Kuppusamy Jayasree\n",
    "- Arun Arunachalam Maheswaran\n",
    "\n",
    "### Introduction\n",
    "\n",
    "The goal of the project is to understand the data science project workflow from scratch and going through a typical process from Reading, Preprocessing, Analyzing and Model Fitting and Prediction. The project also emphasises on good programming practices which will be necessary in the real world scenario for code readability and understanding. \n",
    "\n",
    "\n",
    "The given data set, containing enrollment data for different areas, is accessed through a specified URL in .csv format. The data is transformed from the original wide format into a long format and then separated into county and non-county data through processing. A wrapper function, along with multiple helper functions, is employed to read and process various data sets.\n",
    "\n",
    "Next, the county level data set is utilized to fit both a simple linear regression model and a multiple linear regression model. To evaluate these models, cross-validation is used with the mean squared error (MSE) as the metric. Specifically, a function is employed to train the first three years of the data set and predict the value for the fourth year. This process is repeated for all years in the data set and the cumulative MSE is calculated and compared for model evaluation.\n"
   ]
  },
  {
   "cell_type": "markdown",
   "id": "3883b821",
   "metadata": {},
   "source": [
    "## Part 1: Data Processing\n",
    "\n",
    "### Task 1: Read in the data\n",
    "\n",
    "The given data set is in **.csv** format and we will be using pandas module to read and parse through the data set."
   ]
  },
  {
   "cell_type": "code",
   "execution_count": 1,
   "id": "ccbed9e7-cd21-4de7-8f15-6257ce31fbd0",
   "metadata": {
    "colab": {
     "base_uri": "https://localhost:8080/",
     "height": 369
    },
    "id": "ccbed9e7-cd21-4de7-8f15-6257ce31fbd0",
    "outputId": "a21437a6-f72e-477c-cd84-fa17d3cc9206"
   },
   "outputs": [
    {
     "data": {
      "text/html": [
       "<div>\n",
       "<style scoped>\n",
       "    .dataframe tbody tr th:only-of-type {\n",
       "        vertical-align: middle;\n",
       "    }\n",
       "\n",
       "    .dataframe tbody tr th {\n",
       "        vertical-align: top;\n",
       "    }\n",
       "\n",
       "    .dataframe thead th {\n",
       "        text-align: right;\n",
       "    }\n",
       "</style>\n",
       "<table border=\"1\" class=\"dataframe\">\n",
       "  <thead>\n",
       "    <tr style=\"text-align: right;\">\n",
       "      <th></th>\n",
       "      <th>Area_name</th>\n",
       "      <th>STCOU</th>\n",
       "      <th>EDU010187F</th>\n",
       "      <th>EDU010187D</th>\n",
       "      <th>EDU010187N1</th>\n",
       "      <th>EDU010187N2</th>\n",
       "      <th>EDU010188F</th>\n",
       "      <th>EDU010188D</th>\n",
       "      <th>EDU010188N1</th>\n",
       "      <th>EDU010188N2</th>\n",
       "      <th>...</th>\n",
       "      <th>EDU010194N1</th>\n",
       "      <th>EDU010194N2</th>\n",
       "      <th>EDU010195F</th>\n",
       "      <th>EDU010195D</th>\n",
       "      <th>EDU010195N1</th>\n",
       "      <th>EDU010195N2</th>\n",
       "      <th>EDU010196F</th>\n",
       "      <th>EDU010196D</th>\n",
       "      <th>EDU010196N1</th>\n",
       "      <th>EDU010196N2</th>\n",
       "    </tr>\n",
       "  </thead>\n",
       "  <tbody>\n",
       "    <tr>\n",
       "      <th>0</th>\n",
       "      <td>UNITED STATES</td>\n",
       "      <td>0</td>\n",
       "      <td>0</td>\n",
       "      <td>40024299</td>\n",
       "      <td>0</td>\n",
       "      <td>0</td>\n",
       "      <td>0</td>\n",
       "      <td>39967624</td>\n",
       "      <td>0</td>\n",
       "      <td>0</td>\n",
       "      <td>...</td>\n",
       "      <td>0</td>\n",
       "      <td>0</td>\n",
       "      <td>0</td>\n",
       "      <td>43993459</td>\n",
       "      <td>0</td>\n",
       "      <td>0</td>\n",
       "      <td>0</td>\n",
       "      <td>44715737</td>\n",
       "      <td>0</td>\n",
       "      <td>0</td>\n",
       "    </tr>\n",
       "    <tr>\n",
       "      <th>1</th>\n",
       "      <td>ALABAMA</td>\n",
       "      <td>1000</td>\n",
       "      <td>0</td>\n",
       "      <td>733735</td>\n",
       "      <td>0</td>\n",
       "      <td>0</td>\n",
       "      <td>0</td>\n",
       "      <td>728234</td>\n",
       "      <td>0</td>\n",
       "      <td>0</td>\n",
       "      <td>...</td>\n",
       "      <td>0</td>\n",
       "      <td>0</td>\n",
       "      <td>0</td>\n",
       "      <td>727989</td>\n",
       "      <td>0</td>\n",
       "      <td>0</td>\n",
       "      <td>0</td>\n",
       "      <td>736825</td>\n",
       "      <td>0</td>\n",
       "      <td>0</td>\n",
       "    </tr>\n",
       "    <tr>\n",
       "      <th>2</th>\n",
       "      <td>Autauga, AL</td>\n",
       "      <td>1001</td>\n",
       "      <td>0</td>\n",
       "      <td>6829</td>\n",
       "      <td>0</td>\n",
       "      <td>0</td>\n",
       "      <td>0</td>\n",
       "      <td>6900</td>\n",
       "      <td>0</td>\n",
       "      <td>0</td>\n",
       "      <td>...</td>\n",
       "      <td>0</td>\n",
       "      <td>0</td>\n",
       "      <td>0</td>\n",
       "      <td>7568</td>\n",
       "      <td>0</td>\n",
       "      <td>0</td>\n",
       "      <td>0</td>\n",
       "      <td>7834</td>\n",
       "      <td>0</td>\n",
       "      <td>0</td>\n",
       "    </tr>\n",
       "    <tr>\n",
       "      <th>3</th>\n",
       "      <td>Baldwin, AL</td>\n",
       "      <td>1003</td>\n",
       "      <td>0</td>\n",
       "      <td>16417</td>\n",
       "      <td>0</td>\n",
       "      <td>0</td>\n",
       "      <td>0</td>\n",
       "      <td>16465</td>\n",
       "      <td>0</td>\n",
       "      <td>0</td>\n",
       "      <td>...</td>\n",
       "      <td>0</td>\n",
       "      <td>0</td>\n",
       "      <td>0</td>\n",
       "      <td>19961</td>\n",
       "      <td>0</td>\n",
       "      <td>0</td>\n",
       "      <td>0</td>\n",
       "      <td>20699</td>\n",
       "      <td>0</td>\n",
       "      <td>0</td>\n",
       "    </tr>\n",
       "    <tr>\n",
       "      <th>4</th>\n",
       "      <td>Barbour, AL</td>\n",
       "      <td>1005</td>\n",
       "      <td>0</td>\n",
       "      <td>5071</td>\n",
       "      <td>0</td>\n",
       "      <td>0</td>\n",
       "      <td>0</td>\n",
       "      <td>5098</td>\n",
       "      <td>0</td>\n",
       "      <td>0</td>\n",
       "      <td>...</td>\n",
       "      <td>0</td>\n",
       "      <td>0</td>\n",
       "      <td>0</td>\n",
       "      <td>5017</td>\n",
       "      <td>0</td>\n",
       "      <td>0</td>\n",
       "      <td>0</td>\n",
       "      <td>5053</td>\n",
       "      <td>0</td>\n",
       "      <td>0</td>\n",
       "    </tr>\n",
       "  </tbody>\n",
       "</table>\n",
       "<p>5 rows × 42 columns</p>\n",
       "</div>"
      ],
      "text/plain": [
       "       Area_name  STCOU  EDU010187F  EDU010187D  EDU010187N1  EDU010187N2  \\\n",
       "0  UNITED STATES      0           0    40024299            0            0   \n",
       "1        ALABAMA   1000           0      733735            0            0   \n",
       "2    Autauga, AL   1001           0        6829            0            0   \n",
       "3    Baldwin, AL   1003           0       16417            0            0   \n",
       "4    Barbour, AL   1005           0        5071            0            0   \n",
       "\n",
       "   EDU010188F  EDU010188D  EDU010188N1  EDU010188N2  ...  EDU010194N1  \\\n",
       "0           0    39967624            0            0  ...            0   \n",
       "1           0      728234            0            0  ...            0   \n",
       "2           0        6900            0            0  ...            0   \n",
       "3           0       16465            0            0  ...            0   \n",
       "4           0        5098            0            0  ...            0   \n",
       "\n",
       "   EDU010194N2  EDU010195F  EDU010195D  EDU010195N1  EDU010195N2  EDU010196F  \\\n",
       "0            0           0    43993459            0            0           0   \n",
       "1            0           0      727989            0            0           0   \n",
       "2            0           0        7568            0            0           0   \n",
       "3            0           0       19961            0            0           0   \n",
       "4            0           0        5017            0            0           0   \n",
       "\n",
       "   EDU010196D  EDU010196N1  EDU010196N2  \n",
       "0    44715737            0            0  \n",
       "1      736825            0            0  \n",
       "2        7834            0            0  \n",
       "3       20699            0            0  \n",
       "4        5053            0            0  \n",
       "\n",
       "[5 rows x 42 columns]"
      ]
     },
     "execution_count": 1,
     "metadata": {},
     "output_type": "execute_result"
    }
   ],
   "source": [
    "#importing required modules\n",
    "import pandas as pd\n",
    "import numpy as np\n",
    "from functools import reduce\n",
    "from sklearn import linear_model\n",
    "from sklearn.metrics import mean_squared_error\n",
    "\n",
    "#reading the first part of the data set\n",
    "survey_data = pd.read_csv(\"https://www4.stat.ncsu.edu/~online/datasets/EDU01a.csv\")\n",
    "survey_data.head()"
   ]
  },
  {
   "cell_type": "markdown",
   "id": "8188de49-2399-45e0-8cea-e0a80500a6c4",
   "metadata": {
    "id": "8188de49-2399-45e0-8cea-e0a80500a6c4"
   },
   "source": [
    "The dataset consists of 42 columns where **Area_name** contains *county* and *non county* data, **STCOU** column contains the county code. All the other columns represent enrollment data for different years."
   ]
  },
  {
   "cell_type": "code",
   "execution_count": 2,
   "id": "e61cc185-d06c-4009-83ac-eaeb4e708db1",
   "metadata": {
    "colab": {
     "base_uri": "https://localhost:8080/",
     "height": 206
    },
    "id": "e61cc185-d06c-4009-83ac-eaeb4e708db1",
    "outputId": "a6cc406e-b69f-4ec2-c4d3-f184f62b8f52"
   },
   "outputs": [
    {
     "data": {
      "text/html": [
       "<div>\n",
       "<style scoped>\n",
       "    .dataframe tbody tr th:only-of-type {\n",
       "        vertical-align: middle;\n",
       "    }\n",
       "\n",
       "    .dataframe tbody tr th {\n",
       "        vertical-align: top;\n",
       "    }\n",
       "\n",
       "    .dataframe thead th {\n",
       "        text-align: right;\n",
       "    }\n",
       "</style>\n",
       "<table border=\"1\" class=\"dataframe\">\n",
       "  <thead>\n",
       "    <tr style=\"text-align: right;\">\n",
       "      <th></th>\n",
       "      <th>Area_name</th>\n",
       "      <th>STCOU</th>\n",
       "      <th>info</th>\n",
       "      <th>enrollment</th>\n",
       "    </tr>\n",
       "  </thead>\n",
       "  <tbody>\n",
       "    <tr>\n",
       "      <th>0</th>\n",
       "      <td>UNITED STATES</td>\n",
       "      <td>0</td>\n",
       "      <td>EDU010187D</td>\n",
       "      <td>40024299</td>\n",
       "    </tr>\n",
       "    <tr>\n",
       "      <th>1</th>\n",
       "      <td>ALABAMA</td>\n",
       "      <td>1000</td>\n",
       "      <td>EDU010187D</td>\n",
       "      <td>733735</td>\n",
       "    </tr>\n",
       "    <tr>\n",
       "      <th>2</th>\n",
       "      <td>Autauga, AL</td>\n",
       "      <td>1001</td>\n",
       "      <td>EDU010187D</td>\n",
       "      <td>6829</td>\n",
       "    </tr>\n",
       "    <tr>\n",
       "      <th>3</th>\n",
       "      <td>Baldwin, AL</td>\n",
       "      <td>1003</td>\n",
       "      <td>EDU010187D</td>\n",
       "      <td>16417</td>\n",
       "    </tr>\n",
       "    <tr>\n",
       "      <th>4</th>\n",
       "      <td>Barbour, AL</td>\n",
       "      <td>1005</td>\n",
       "      <td>EDU010187D</td>\n",
       "      <td>5071</td>\n",
       "    </tr>\n",
       "  </tbody>\n",
       "</table>\n",
       "</div>"
      ],
      "text/plain": [
       "       Area_name  STCOU        info  enrollment\n",
       "0  UNITED STATES      0  EDU010187D    40024299\n",
       "1        ALABAMA   1000  EDU010187D      733735\n",
       "2    Autauga, AL   1001  EDU010187D        6829\n",
       "3    Baldwin, AL   1003  EDU010187D       16417\n",
       "4    Barbour, AL   1005  EDU010187D        5071"
      ]
     },
     "execution_count": 2,
     "metadata": {},
     "output_type": "execute_result"
    }
   ],
   "source": [
    "#selecting the columns that only ends with 'D'\n",
    "sub_data = survey_data[[\"Area_name\", \"STCOU\"] + [x for x in survey_data.loc[:,[x for x in survey_data.columns if x.endswith('D')]].columns]]\n",
    "\n",
    "#converting the wide format data into long format\n",
    "sub_data = sub_data.melt(id_vars = [\"Area_name\", \"STCOU\"], var_name= \"info\", value_name= \"enrollment\")\n",
    "sub_data.head()"
   ]
  },
  {
   "cell_type": "markdown",
   "id": "0e26b872-f7ae-4545-a625-8b76ed6d1de7",
   "metadata": {
    "id": "0e26b872-f7ae-4545-a625-8b76ed6d1de7"
   },
   "source": [
    "The given data set is converted from **wide** format into **long** format by stacking the columns that ends with **D** as a row value of the column *info* (corresponds to particular year's measurements) and the values of these original columns are passed into the new column *enrollment*."
   ]
  },
  {
   "cell_type": "code",
   "execution_count": 3,
   "id": "dc653d98-a6a5-4ec3-83ce-52dbffebb1e7",
   "metadata": {
    "id": "dc653d98-a6a5-4ec3-83ce-52dbffebb1e7"
   },
   "outputs": [],
   "source": [
    "#extracting the 'year' and 'measurement' data from 'info' column\n",
    "for i in range(0, len(sub_data)):\n",
    "    if sub_data[\"info\"][i][-4] == \"1\":\n",
    "        sub_data.loc[i,\"year\"] = int(\"19\" + sub_data[\"info\"][i][-3:-1])\n",
    "    elif sub_data[\"info\"][i][-4] == \"2\":\n",
    "        sub_data.loc[i,\"year\"] = int(\"20\" + sub_data[\"info\"][i][-3:-1])\n",
    "    sub_data.loc[i,\"measurement\"] = sub_data[\"info\"][i][:7]\n",
    "sub_data = sub_data.drop(\"info\", axis = 1)"
   ]
  },
  {
   "cell_type": "markdown",
   "id": "JUwYpFPTEKH4",
   "metadata": {
    "id": "JUwYpFPTEKH4"
   },
   "source": [
    "The *year* value is extracted from the *info* column values. If the **7th element** of *info* value is 1 then the year starts with **19** and if it is 2 then the year starts with **20**. The last two digits of the year will be **8th and 9th element** of *info*"
   ]
  },
  {
   "cell_type": "code",
   "execution_count": 4,
   "id": "783ec97a-9b67-4585-838a-c25a547d0860",
   "metadata": {
    "colab": {
     "base_uri": "https://localhost:8080/"
    },
    "id": "783ec97a-9b67-4585-838a-c25a547d0860",
    "outputId": "ab469f94-efc9-40f9-de1f-8935cdd2d6be"
   },
   "outputs": [
    {
     "name": "stderr",
     "output_type": "stream",
     "text": [
      "/tmp/ipykernel_12560/1003401584.py:5: SettingWithCopyWarning: \n",
      "A value is trying to be set on a copy of a slice from a DataFrame.\n",
      "Try using .loc[row_indexer,col_indexer] = value instead\n",
      "\n",
      "See the caveats in the documentation: https://pandas.pydata.org/pandas-docs/stable/user_guide/indexing.html#returning-a-view-versus-a-copy\n",
      "  county_data[\"state\"] = county_data[\"Area_name\"].str[-2:]\n"
     ]
    }
   ],
   "source": [
    "#splitting the data frame into county and non county data\n",
    "county_data = sub_data[sub_data[\"Area_name\"].apply(lambda x: ',' in x)]\n",
    "nonCounty_data = sub_data[np.logical_not(sub_data[\"Area_name\"].apply(lambda x: ',' in x))]\n",
    "\n",
    "county_data[\"state\"] = county_data[\"Area_name\"].str[-2:]"
   ]
  },
  {
   "cell_type": "markdown",
   "id": "IHxxy39PGnDe",
   "metadata": {
    "id": "IHxxy39PGnDe"
   },
   "source": [
    "In the data set, if the *Area_name* column value has a '**,**' (comma), then the row entry is considered as *County* data. Otherwise, the entry is considered as *Non county* data."
   ]
  },
  {
   "cell_type": "code",
   "execution_count": 5,
   "id": "f12e653b-b3d5-45aa-9b0f-fd9b02977f8f",
   "metadata": {
    "id": "f12e653b-b3d5-45aa-9b0f-fd9b02977f8f",
    "outputId": "fede686f-c53e-4410-987a-e5384b5ce8c9"
   },
   "outputs": [
    {
     "name": "stderr",
     "output_type": "stream",
     "text": [
      "/tmp/ipykernel_12560/3817666394.py:37: SettingWithCopyWarning: \n",
      "A value is trying to be set on a copy of a slice from a DataFrame.\n",
      "Try using .loc[row_indexer,col_indexer] = value instead\n",
      "\n",
      "See the caveats in the documentation: https://pandas.pydata.org/pandas-docs/stable/user_guide/indexing.html#returning-a-view-versus-a-copy\n",
      "  nonCounty_data[\"division\"] = vfunc(nonCounty_data[\"Area_name\"])\n"
     ]
    }
   ],
   "source": [
    "def div_func(x):    \n",
    "    '''\n",
    "    Assign division number for corresponding state\n",
    "\n",
    "    Parameters\n",
    "    ----------\n",
    "    x: str\n",
    "    name of the state\n",
    "\n",
    "    Returns\n",
    "    -------\n",
    "    'Division #': str\n",
    "    corresponding division of the state\n",
    "   '''\n",
    "    if x.title() in [\"Connecticut\", \"Maine\", \"Massachusetts\", \"New Hampshire\", \"Rhode Island\", \"Vermont\"]:\n",
    "        return \"Division 1\"\n",
    "    elif x.title() in [\"New Jersey\", \"New York\", \"Pennsylvania\"]:\n",
    "        return \"Division 2\"\n",
    "    elif x.title() in [\"Illinois\", \"Indiana\", \"Michigan\", \"Ohio\", \"Wisconsin\"]:\n",
    "        return \"Division 3\"\n",
    "    elif x.title() in [\"Iowa\", \"Kansas\", \"Minnesota\", \"Missouri\", \"Nebraska\", \"North Dakota\", \"South Dakota\"]:\n",
    "        return \"Division 4\"\n",
    "    elif x.title() in [\"Delaware\", \"Florida\", \"Georgia\", \"Maryland\", \"North Carolina\", \"South Carolina\", \"Virginia\", \"Washington\", \"D.C.\", \"West Virginia\"]:\n",
    "        return \"Division 5\"\n",
    "    elif x.title() in [\"Alabama\", \"Kentucky\", \"Mississippi\", \"Tennessee\"]:\n",
    "        return \"Division 6\"\n",
    "    elif x.title() in [\"Arkansas\", \"Louisiana\", \"Oklahoma\", \"Texas\"]:\n",
    "        return \"Division 7\"\n",
    "    elif x.title() in [\"Arizona\", \"Colorado\", \"Idaho\", \"Montana\", \"Nevada\", \"New Mexico\", \"Utah\", \"Wyoming\"]:\n",
    "        return \"Division 8\"\n",
    "    elif x.title() in [\"Alaska\", \"California\", \"Hawaii\", \"Oregon\", \"Washington\"]:\n",
    "        return \"Division 9\"\n",
    "    else:\n",
    "        return \"ERROR\"\n",
    "\n",
    "vfunc = np.vectorize(div_func)\n",
    "nonCounty_data[\"division\"] = vfunc(nonCounty_data[\"Area_name\"])"
   ]
  },
  {
   "cell_type": "code",
   "execution_count": 6,
   "id": "81a8d3fe-4942-4dc0-8c52-01aedf657f04",
   "metadata": {
    "id": "81a8d3fe-4942-4dc0-8c52-01aedf657f04"
   },
   "outputs": [],
   "source": [
    "survey_data2 = pd.read_csv(\"https://www4.stat.ncsu.edu/~online/datasets/EDU01b.csv\")\n",
    "\n",
    "def select_long(data, val = \"enrollment\"):\n",
    "    '''\n",
    "      Select the columns that only ends with 'D' and converting into long format\n",
    "\n",
    "      Parameters\n",
    "      ----------\n",
    "      data: pandas DataFrame\n",
    "        datframe with all columns and in wide format\n",
    "\n",
    "      Returns\n",
    "      -------\n",
    "      data: pandas DataFrame\n",
    "        dataframe with selected columns and in long format\n",
    "    '''\n",
    "    data_sub = data[[\"Area_name\", \"STCOU\"] + [x for x in data.loc[:,[x for x in data.columns if x.endswith('D')]].columns]]\n",
    "    data_sub = data_sub.melt(id_vars = [\"Area_name\", \"STCOU\"], var_name= \"info\", value_name= val)\n",
    "    return data_sub"
   ]
  },
  {
   "cell_type": "code",
   "execution_count": 7,
   "id": "deb12543-9f32-489d-9983-32546223f26f",
   "metadata": {
    "id": "deb12543-9f32-489d-9983-32546223f26f"
   },
   "outputs": [],
   "source": [
    "def year_measure(data):\n",
    "    '''\n",
    "      Extract the 'year' and 'measurement' data from 'info' column\n",
    "\n",
    "      Parameters\n",
    "      ----------\n",
    "      data: pandas DataFrame\n",
    "        Data frame in long format\n",
    "\n",
    "      Returns\n",
    "      -------\n",
    "      data: pandas DataFrame\n",
    "        Data frame with year and measurement column\n",
    "    '''\n",
    "    for i in range(0, len(data)):\n",
    "        if data[\"info\"][i][-4] == \"1\":\n",
    "            data.loc[i,\"year\"] = int(\"19\" + data[\"info\"][i][-3:-1])\n",
    "        elif data[\"info\"][i][-4] == \"2\":\n",
    "            data.loc[i,\"year\"] = int(\"20\" + data[\"info\"][i][-3:-1])\n",
    "        data.loc[i,\"measurement\"] = data[\"info\"][i][:7]\n",
    "    data = data.drop(\"info\", axis = 1)\n",
    "    return data"
   ]
  },
  {
   "cell_type": "code",
   "execution_count": 8,
   "id": "6b2fe552-0107-46ac-9315-e18072d50a0c",
   "metadata": {
    "id": "6b2fe552-0107-46ac-9315-e18072d50a0c"
   },
   "outputs": [],
   "source": [
    "def county_state(data):\n",
    "    '''\n",
    "      Filter the dataframe to get the county data\n",
    "\n",
    "      Parameters\n",
    "      ----------\n",
    "      data: pandas DataFrame\n",
    "        Data frame with only county data\n",
    "\n",
    "      Returns\n",
    "      -------\n",
    "      data: pandas DataFrame\n",
    "        Data frame with state column\n",
    "    '''\n",
    "    data[\"state\"] = data[\"Area_name\"].str[-2:]\n",
    "    return data\n",
    "    \n",
    "def nonCounty_division(data):\n",
    "    '''\n",
    "      Filter the dataframe to get the non county data\n",
    "\n",
    "      Parameters\n",
    "      ----------\n",
    "      data: pandas DataFrame\n",
    "        Data frame with only non county data\n",
    "\n",
    "      Returns\n",
    "      -------\n",
    "      data: pandas DataFrame\n",
    "        Data frame with non county data with division #\n",
    "    '''\n",
    "    vfunc = np.vectorize(div_func)\n",
    "    data[\"division\"] = vfunc(data[\"Area_name\"])\n",
    "    return data\n",
    "\n",
    "def final_step(data):\n",
    "    '''\n",
    "      splits the data to county and con county data and wraps county_state and nonCounty_division functions\n",
    "\n",
    "      Parameters\n",
    "      ----------\n",
    "      data: pandas DataFrame\n",
    "        Data frame with county and non county data\n",
    "\n",
    "      Returns\n",
    "      -------\n",
    "      county_state(county_data): pandas DataFrame with county data with state column\n",
    "      nonCounty_division(nonCounty_data): pandas DataFrame with non county data with division column\n",
    "        Data frame with year and measurement column\n",
    "    '''\n",
    "    county_data = data[data[\"Area_name\"].apply(lambda x: ',' in x)]\n",
    "    nonCounty_data = data[np.logical_not(data[\"Area_name\"].apply(lambda x: ',' in x))]\n",
    "    return county_state(county_data), nonCounty_division(nonCounty_data)"
   ]
  },
  {
   "cell_type": "code",
   "execution_count": 9,
   "id": "e9aa6c06-6139-4ca9-b357-793284e1eb15",
   "metadata": {
    "id": "e9aa6c06-6139-4ca9-b357-793284e1eb15"
   },
   "outputs": [],
   "source": [
    "def wrapper_func(url,val = \"enrollment\"):\n",
    "    '''\n",
    "      wraps all the helper function\n",
    "\n",
    "      Parameters\n",
    "      ----------\n",
    "      url: url string\n",
    "\n",
    "      Returns\n",
    "      -------\n",
    "      [data3, data4]: list of two pandas DataFrame\n",
    "        Data frame with county and non county data\n",
    "    '''\n",
    "    data0 = pd.read_csv(url)\n",
    "    data1 = select_long(data0, val)\n",
    "    data2 = year_measure(data1)\n",
    "    data3, data4 = final_step(data2)\n",
    "    return [data3, data4]"
   ]
  },
  {
   "cell_type": "code",
   "execution_count": 10,
   "id": "ce827733-1ca0-4bd0-b1e1-79dc98e6f322",
   "metadata": {
    "id": "ce827733-1ca0-4bd0-b1e1-79dc98e6f322",
    "outputId": "a93f9061-1ef4-44e0-8614-f775c96ae6d2"
   },
   "outputs": [
    {
     "name": "stderr",
     "output_type": "stream",
     "text": [
      "/tmp/ipykernel_12560/815759403.py:15: SettingWithCopyWarning: \n",
      "A value is trying to be set on a copy of a slice from a DataFrame.\n",
      "Try using .loc[row_indexer,col_indexer] = value instead\n",
      "\n",
      "See the caveats in the documentation: https://pandas.pydata.org/pandas-docs/stable/user_guide/indexing.html#returning-a-view-versus-a-copy\n",
      "  data[\"state\"] = data[\"Area_name\"].str[-2:]\n",
      "/tmp/ipykernel_12560/815759403.py:33: SettingWithCopyWarning: \n",
      "A value is trying to be set on a copy of a slice from a DataFrame.\n",
      "Try using .loc[row_indexer,col_indexer] = value instead\n",
      "\n",
      "See the caveats in the documentation: https://pandas.pydata.org/pandas-docs/stable/user_guide/indexing.html#returning-a-view-versus-a-copy\n",
      "  data[\"division\"] = vfunc(data[\"Area_name\"])\n",
      "/tmp/ipykernel_12560/815759403.py:15: SettingWithCopyWarning: \n",
      "A value is trying to be set on a copy of a slice from a DataFrame.\n",
      "Try using .loc[row_indexer,col_indexer] = value instead\n",
      "\n",
      "See the caveats in the documentation: https://pandas.pydata.org/pandas-docs/stable/user_guide/indexing.html#returning-a-view-versus-a-copy\n",
      "  data[\"state\"] = data[\"Area_name\"].str[-2:]\n",
      "/tmp/ipykernel_12560/815759403.py:33: SettingWithCopyWarning: \n",
      "A value is trying to be set on a copy of a slice from a DataFrame.\n",
      "Try using .loc[row_indexer,col_indexer] = value instead\n",
      "\n",
      "See the caveats in the documentation: https://pandas.pydata.org/pandas-docs/stable/user_guide/indexing.html#returning-a-view-versus-a-copy\n",
      "  data[\"division\"] = vfunc(data[\"Area_name\"])\n"
     ]
    }
   ],
   "source": [
    "#call the wrapper function to return the list of two data frames with county and non county data\n",
    "mixData1 =wrapper_func(\"https://www4.stat.ncsu.edu/~online/datasets/EDU01a.csv\", val = \"enrollment\")\n",
    "mixData2 = wrapper_func(\"https://www4.stat.ncsu.edu/~online/datasets/EDU01b.csv\", val = \"enrollment\")"
   ]
  },
  {
   "cell_type": "markdown",
   "id": "7YZynjFKSmmE",
   "metadata": {
    "id": "7YZynjFKSmmE"
   },
   "source": [
    "## Part 2: Combining data functions"
   ]
  },
  {
   "cell_type": "code",
   "execution_count": 11,
   "id": "3c71085e-ed4e-4b25-815a-8d2c082f3329",
   "metadata": {
    "id": "3c71085e-ed4e-4b25-815a-8d2c082f3329"
   },
   "outputs": [],
   "source": [
    "def data_concat(*args):\n",
    "    '''\n",
    "      split the list of data frames and concatenate with corresponding county and non county data\n",
    "\n",
    "      Parameters\n",
    "      ----------\n",
    "      *args: unlimited positional arguments\n",
    "        two lists, each consisting of two data frames\n",
    "\n",
    "      Returns\n",
    "      -------\n",
    "      [countyCat, nonCountyCat]: list of two pandas DataFrames\n",
    "        list of data frame with concatenated county and non county data\n",
    "    '''\n",
    "    county = list(map(lambda x: x[0], args))\n",
    "    countyCat = reduce(lambda x,y: pd.concat([x,y]), county)\n",
    "    nonCounty = list(map(lambda x: x[1], args))\n",
    "    nonCountyCat = reduce(lambda x,y: pd.concat([x,y]), nonCounty)\n",
    "    return [countyCat, nonCountyCat]"
   ]
  },
  {
   "cell_type": "code",
   "execution_count": 12,
   "id": "af8b3399-4750-402f-8182-8c8adc20c41b",
   "metadata": {
    "id": "af8b3399-4750-402f-8182-8c8adc20c41b",
    "outputId": "1ce8007f-5890-4149-b5d9-e1b892f67b3d"
   },
   "outputs": [
    {
     "data": {
      "text/plain": [
       "[            Area_name  STCOU  enrollment    year measurement state\n",
       " 2         Autauga, AL   1001        6829  1987.0     EDU0101    AL\n",
       " 3         Baldwin, AL   1003       16417  1987.0     EDU0101    AL\n",
       " 4         Barbour, AL   1005        5071  1987.0     EDU0101    AL\n",
       " 5            Bibb, AL   1007        3557  1987.0     EDU0101    AL\n",
       " 6          Blount, AL   1009        7319  1987.0     EDU0101    AL\n",
       " ...               ...    ...         ...     ...         ...   ...\n",
       " 31975  Sweetwater, WY  56037        6964  2006.0     EDU0152    WY\n",
       " 31976       Teton, WY  56039        2264  2006.0     EDU0152    WY\n",
       " 31977       Uinta, WY  56041        4298  2006.0     EDU0152    WY\n",
       " 31978    Washakie, WY  56043        1410  2006.0     EDU0152    WY\n",
       " 31979      Weston, WY  56045        1076  2006.0     EDU0152    WY\n",
       " \n",
       " [62900 rows x 6 columns],\n",
       "            Area_name  STCOU  enrollment    year measurement    division\n",
       " 0      UNITED STATES      0    40024299  1987.0     EDU0101       ERROR\n",
       " 1            ALABAMA   1000      733735  1987.0     EDU0101  Division 6\n",
       " 69            ALASKA   2000      102872  1987.0     EDU0101  Division 9\n",
       " 99           ARIZONA   4000      609411  1987.0     EDU0101  Division 8\n",
       " 115         ARKANSAS   5000      429260  1987.0     EDU0101  Division 7\n",
       " ...              ...    ...         ...     ...         ...         ...\n",
       " 31650       VIRGINIA  51000     1220440  2006.0     EDU0152  Division 5\n",
       " 31787     WASHINGTON  53000     1026774  2006.0     EDU0152  Division 5\n",
       " 31827  WEST VIRGINIA  54000      281938  2006.0     EDU0152  Division 5\n",
       " 31883      WISCONSIN  55000      876700  2006.0     EDU0152  Division 3\n",
       " 31956        WYOMING  56000       85193  2006.0     EDU0152  Division 8\n",
       " \n",
       " [1060 rows x 6 columns]]"
      ]
     },
     "execution_count": 12,
     "metadata": {},
     "output_type": "execute_result"
    }
   ],
   "source": [
    "#calling the function to check the result\n",
    "data_concat(mixData1, mixData2)"
   ]
  },
  {
   "cell_type": "markdown",
   "id": "anMKBiyERXnv",
   "metadata": {
    "id": "anMKBiyERXnv"
   },
   "source": [
    "From the result above, we could see that the **county data** and the **non county data** from two urls mixData1 and mixData2 are concatenated and returned as a list of two concatenated data frames."
   ]
  },
  {
   "cell_type": "code",
   "execution_count": 13,
   "id": "1b507452-9eb7-46b8-afe8-cb400cfd0559",
   "metadata": {
    "id": "1b507452-9eb7-46b8-afe8-cb400cfd0559",
    "outputId": "b5b73db6-d3f1-4119-93b7-28be0816af06"
   },
   "outputs": [
    {
     "name": "stderr",
     "output_type": "stream",
     "text": [
      "/tmp/ipykernel_12560/815759403.py:15: SettingWithCopyWarning: \n",
      "A value is trying to be set on a copy of a slice from a DataFrame.\n",
      "Try using .loc[row_indexer,col_indexer] = value instead\n",
      "\n",
      "See the caveats in the documentation: https://pandas.pydata.org/pandas-docs/stable/user_guide/indexing.html#returning-a-view-versus-a-copy\n",
      "  data[\"state\"] = data[\"Area_name\"].str[-2:]\n",
      "/tmp/ipykernel_12560/815759403.py:33: SettingWithCopyWarning: \n",
      "A value is trying to be set on a copy of a slice from a DataFrame.\n",
      "Try using .loc[row_indexer,col_indexer] = value instead\n",
      "\n",
      "See the caveats in the documentation: https://pandas.pydata.org/pandas-docs/stable/user_guide/indexing.html#returning-a-view-versus-a-copy\n",
      "  data[\"division\"] = vfunc(data[\"Area_name\"])\n",
      "/tmp/ipykernel_12560/815759403.py:15: SettingWithCopyWarning: \n",
      "A value is trying to be set on a copy of a slice from a DataFrame.\n",
      "Try using .loc[row_indexer,col_indexer] = value instead\n",
      "\n",
      "See the caveats in the documentation: https://pandas.pydata.org/pandas-docs/stable/user_guide/indexing.html#returning-a-view-versus-a-copy\n",
      "  data[\"state\"] = data[\"Area_name\"].str[-2:]\n",
      "/tmp/ipykernel_12560/815759403.py:33: SettingWithCopyWarning: \n",
      "A value is trying to be set on a copy of a slice from a DataFrame.\n",
      "Try using .loc[row_indexer,col_indexer] = value instead\n",
      "\n",
      "See the caveats in the documentation: https://pandas.pydata.org/pandas-docs/stable/user_guide/indexing.html#returning-a-view-versus-a-copy\n",
      "  data[\"division\"] = vfunc(data[\"Area_name\"])\n",
      "/tmp/ipykernel_12560/815759403.py:15: SettingWithCopyWarning: \n",
      "A value is trying to be set on a copy of a slice from a DataFrame.\n",
      "Try using .loc[row_indexer,col_indexer] = value instead\n",
      "\n",
      "See the caveats in the documentation: https://pandas.pydata.org/pandas-docs/stable/user_guide/indexing.html#returning-a-view-versus-a-copy\n",
      "  data[\"state\"] = data[\"Area_name\"].str[-2:]\n",
      "/tmp/ipykernel_12560/815759403.py:33: SettingWithCopyWarning: \n",
      "A value is trying to be set on a copy of a slice from a DataFrame.\n",
      "Try using .loc[row_indexer,col_indexer] = value instead\n",
      "\n",
      "See the caveats in the documentation: https://pandas.pydata.org/pandas-docs/stable/user_guide/indexing.html#returning-a-view-versus-a-copy\n",
      "  data[\"division\"] = vfunc(data[\"Area_name\"])\n",
      "/tmp/ipykernel_12560/815759403.py:15: SettingWithCopyWarning: \n",
      "A value is trying to be set on a copy of a slice from a DataFrame.\n",
      "Try using .loc[row_indexer,col_indexer] = value instead\n",
      "\n",
      "See the caveats in the documentation: https://pandas.pydata.org/pandas-docs/stable/user_guide/indexing.html#returning-a-view-versus-a-copy\n",
      "  data[\"state\"] = data[\"Area_name\"].str[-2:]\n",
      "/tmp/ipykernel_12560/815759403.py:33: SettingWithCopyWarning: \n",
      "A value is trying to be set on a copy of a slice from a DataFrame.\n",
      "Try using .loc[row_indexer,col_indexer] = value instead\n",
      "\n",
      "See the caveats in the documentation: https://pandas.pydata.org/pandas-docs/stable/user_guide/indexing.html#returning-a-view-versus-a-copy\n",
      "  data[\"division\"] = vfunc(data[\"Area_name\"])\n"
     ]
    },
    {
     "data": {
      "text/plain": [
       "[            Area_name  STCOU  enrollment    year measurement state\n",
       " 2         Autauga, AL   1001       25508  1971.0     PST0151    AL\n",
       " 3         Baldwin, AL   1003       60141  1971.0     PST0151    AL\n",
       " 4         Barbour, AL   1005       23092  1971.0     PST0151    AL\n",
       " 5            Bibb, AL   1007       13919  1971.0     PST0151    AL\n",
       " 6          Blount, AL   1009       27817  1971.0     PST0151    AL\n",
       " ...               ...    ...         ...     ...         ...   ...\n",
       " 31975  Sweetwater, WY  56037       41226  2009.0     PST0452    WY\n",
       " 31976       Teton, WY  56039       20710  2009.0     PST0452    WY\n",
       " 31977       Uinta, WY  56041       20927  2009.0     PST0452    WY\n",
       " 31978    Washakie, WY  56043        7911  2009.0     PST0452    WY\n",
       " 31979      Weston, WY  56045        7009  2009.0     PST0452    WY\n",
       " \n",
       " [125800 rows x 6 columns],\n",
       "            Area_name  STCOU  enrollment    year measurement    division\n",
       " 0      UNITED STATES      0   206827028  1971.0     PST0151       ERROR\n",
       " 1            ALABAMA   1000     3497452  1971.0     PST0151  Division 6\n",
       " 69            ALASKA   2000      316494  1971.0     PST0151  Division 9\n",
       " 99           ARIZONA   4000     1896108  1971.0     PST0151  Division 8\n",
       " 115         ARKANSAS   5000     1972028  1971.0     PST0151  Division 7\n",
       " ...              ...    ...         ...     ...         ...         ...\n",
       " 31650       VIRGINIA  51000     7882590  2009.0     PST0452  Division 5\n",
       " 31787     WASHINGTON  53000     6664195  2009.0     PST0452  Division 5\n",
       " 31827  WEST VIRGINIA  54000     1819777  2009.0     PST0452  Division 5\n",
       " 31883      WISCONSIN  55000     5654774  2009.0     PST0452  Division 3\n",
       " 31956        WYOMING  56000      544270  2009.0     PST0452  Division 8\n",
       " \n",
       " [2120 rows x 6 columns]]"
      ]
     },
     "execution_count": 13,
     "metadata": {},
     "output_type": "execute_result"
    }
   ],
   "source": [
    "#double checking the functions for four urls\n",
    "mixData3 =wrapper_func(\"https://www4.stat.ncsu.edu/~online/datasets/PST01a.csv\", val = \"enrollment\")\n",
    "mixData4 = wrapper_func(\"https://www4.stat.ncsu.edu/~online/datasets/PST01b.csv\", val = \"enrollment\")\n",
    "mixData5 =wrapper_func(\"https://www4.stat.ncsu.edu/~online/datasets/PST01c.csv\", val = \"enrollment\")\n",
    "mixData6 = wrapper_func(\"https://www4.stat.ncsu.edu/~online/datasets/PST01d.csv\", val = \"enrollment\")\n",
    "data_concat(mixData3, mixData4, mixData5, mixData6)"
   ]
  },
  {
   "cell_type": "markdown",
   "id": "PkRAQwDlSxAR",
   "metadata": {
    "id": "PkRAQwDlSxAR"
   },
   "source": [
    "## Part 3: Cross validation functions"
   ]
  },
  {
   "cell_type": "code",
   "execution_count": 14,
   "id": "b263f128-3f01-479a-b32c-d0a30df2e695",
   "metadata": {
    "id": "b263f128-3f01-479a-b32c-d0a30df2e695"
   },
   "outputs": [],
   "source": [
    "#subset the data\n",
    "nC_data1 = mixData1[1]\n",
    "nC_data1 = nC_data1[nC_data1[\"division\"] != \"ERROR\"]\n",
    "nC_data1 = nC_data1[[\"year\", \"division\", \"enrollment\"]]"
   ]
  },
  {
   "cell_type": "code",
   "execution_count": 15,
   "id": "1bdaa2e9-2433-4aee-8bba-91a4f471da06",
   "metadata": {
    "id": "1bdaa2e9-2433-4aee-8bba-91a4f471da06"
   },
   "outputs": [],
   "source": [
    "#creating dummies for the division values\n",
    "nC_dummies = pd.get_dummies(data = nC_data1[\"division\"])"
   ]
  },
  {
   "cell_type": "code",
   "execution_count": 16,
   "id": "15bb9904-c989-423c-944a-b40147bba032",
   "metadata": {
    "id": "15bb9904-c989-423c-944a-b40147bba032"
   },
   "outputs": [],
   "source": [
    "#adding the dummy column to the subsetted data frame\n",
    "for i in nC_dummies.columns:\n",
    "    nC_data1[i] = nC_dummies[i].copy()"
   ]
  },
  {
   "cell_type": "code",
   "execution_count": 17,
   "id": "a5a86608-4d8e-4109-80bd-3c01cab3724d",
   "metadata": {
    "id": "a5a86608-4d8e-4109-80bd-3c01cab3724d"
   },
   "outputs": [],
   "source": [
    "#drop the division and division 9 columns\n",
    "nC_data1 = nC_data1.drop([\"division\", \"Division 9\"], axis = 1)"
   ]
  },
  {
   "cell_type": "code",
   "execution_count": 18,
   "id": "66120cb2-3618-45d3-8aa1-c43d8efe2bee",
   "metadata": {
    "id": "66120cb2-3618-45d3-8aa1-c43d8efe2bee",
    "outputId": "d1ab991f-804f-4f35-e538-49566dac73b3"
   },
   "outputs": [
    {
     "data": {
      "text/html": [
       "<div>\n",
       "<style scoped>\n",
       "    .dataframe tbody tr th:only-of-type {\n",
       "        vertical-align: middle;\n",
       "    }\n",
       "\n",
       "    .dataframe tbody tr th {\n",
       "        vertical-align: top;\n",
       "    }\n",
       "\n",
       "    .dataframe thead th {\n",
       "        text-align: right;\n",
       "    }\n",
       "</style>\n",
       "<table border=\"1\" class=\"dataframe\">\n",
       "  <thead>\n",
       "    <tr style=\"text-align: right;\">\n",
       "      <th></th>\n",
       "      <th>year</th>\n",
       "      <th>enrollment</th>\n",
       "      <th>Division 1</th>\n",
       "      <th>Division 2</th>\n",
       "      <th>Division 3</th>\n",
       "      <th>Division 4</th>\n",
       "      <th>Division 5</th>\n",
       "      <th>Division 6</th>\n",
       "      <th>Division 7</th>\n",
       "      <th>Division 8</th>\n",
       "    </tr>\n",
       "  </thead>\n",
       "  <tbody>\n",
       "    <tr>\n",
       "      <th>1</th>\n",
       "      <td>1987.0</td>\n",
       "      <td>733735</td>\n",
       "      <td>0</td>\n",
       "      <td>0</td>\n",
       "      <td>0</td>\n",
       "      <td>0</td>\n",
       "      <td>0</td>\n",
       "      <td>1</td>\n",
       "      <td>0</td>\n",
       "      <td>0</td>\n",
       "    </tr>\n",
       "    <tr>\n",
       "      <th>69</th>\n",
       "      <td>1987.0</td>\n",
       "      <td>102872</td>\n",
       "      <td>0</td>\n",
       "      <td>0</td>\n",
       "      <td>0</td>\n",
       "      <td>0</td>\n",
       "      <td>0</td>\n",
       "      <td>0</td>\n",
       "      <td>0</td>\n",
       "      <td>0</td>\n",
       "    </tr>\n",
       "    <tr>\n",
       "      <th>99</th>\n",
       "      <td>1987.0</td>\n",
       "      <td>609411</td>\n",
       "      <td>0</td>\n",
       "      <td>0</td>\n",
       "      <td>0</td>\n",
       "      <td>0</td>\n",
       "      <td>0</td>\n",
       "      <td>0</td>\n",
       "      <td>0</td>\n",
       "      <td>1</td>\n",
       "    </tr>\n",
       "    <tr>\n",
       "      <th>115</th>\n",
       "      <td>1987.0</td>\n",
       "      <td>429260</td>\n",
       "      <td>0</td>\n",
       "      <td>0</td>\n",
       "      <td>0</td>\n",
       "      <td>0</td>\n",
       "      <td>0</td>\n",
       "      <td>0</td>\n",
       "      <td>1</td>\n",
       "      <td>0</td>\n",
       "    </tr>\n",
       "    <tr>\n",
       "      <th>191</th>\n",
       "      <td>1987.0</td>\n",
       "      <td>4621126</td>\n",
       "      <td>0</td>\n",
       "      <td>0</td>\n",
       "      <td>0</td>\n",
       "      <td>0</td>\n",
       "      <td>0</td>\n",
       "      <td>0</td>\n",
       "      <td>0</td>\n",
       "      <td>0</td>\n",
       "    </tr>\n",
       "  </tbody>\n",
       "</table>\n",
       "</div>"
      ],
      "text/plain": [
       "       year  enrollment  Division 1  Division 2  Division 3  Division 4  \\\n",
       "1    1987.0      733735           0           0           0           0   \n",
       "69   1987.0      102872           0           0           0           0   \n",
       "99   1987.0      609411           0           0           0           0   \n",
       "115  1987.0      429260           0           0           0           0   \n",
       "191  1987.0     4621126           0           0           0           0   \n",
       "\n",
       "     Division 5  Division 6  Division 7  Division 8  \n",
       "1             0           1           0           0  \n",
       "69            0           0           0           0  \n",
       "99            0           0           0           1  \n",
       "115           0           0           1           0  \n",
       "191           0           0           0           0  "
      ]
     },
     "execution_count": 18,
     "metadata": {},
     "output_type": "execute_result"
    }
   ],
   "source": [
    "#checking the new columns of the data frame\n",
    "nC_data1.head()"
   ]
  },
  {
   "cell_type": "markdown",
   "id": "9d09e0fa",
   "metadata": {},
   "source": [
    "We first write a function which we can use to get one MSE values for any given year and the model. This function can be used in the next step where we loop through different years and find MSE for all those years"
   ]
  },
  {
   "cell_type": "code",
   "execution_count": 19,
   "id": "8fb40bfb-0d65-48db-857d-906b88bd90fc",
   "metadata": {
    "id": "8fb40bfb-0d65-48db-857d-906b88bd90fc"
   },
   "outputs": [],
   "source": [
    "def oneStep_mse(x, y, last_year, model):\n",
    "    \"\"\"\n",
    "    Function to get MSE value for a particular year after fitting a linear regression model between the predictor variables\n",
    "    on 2 different models\n",
    "    \n",
    "    Parameters\n",
    "    ----------\n",
    "    x: Pandas Dataframe or Series\n",
    "     Predictor variables which is usually the year or year and divison based on the models\n",
    "    y: Pandas Series\n",
    "     Response variables which are dependent on the independent variables x, in this case its the enrollment number\n",
    "    last_year: int\n",
    "     Year we use to split between test and train set\n",
    "    model: str\n",
    "     linear model we want to fit. slr for single linear regression and mlr for multivariate linear regression\n",
    "     \n",
    "    \n",
    "    Returns\n",
    "    --------\n",
    "    test_MSE: float\n",
    "     Mean Squared Error for the year we want to predict through previous years\n",
    "    \n",
    "    \"\"\"\n",
    "    #test train data split\n",
    "    X_train = x[x[\"year\"] <= last_year]\n",
    "    X_test = x[x[\"year\"] == last_year + 1]\n",
    "    \n",
    "    y_train = y.filter(items = X_train.index, axis = 0)\n",
    "    y_test = y.filter(items = X_test.index, axis = 0)\n",
    "    \n",
    "    #conditional statements to find mse for given model\n",
    "    if model == 'slr':\n",
    "        reg = linear_model.LinearRegression()\n",
    "        reg.fit(X = X_train[\"year\"].values.reshape(-1,1), y = y_train)\n",
    "        test_MSE = mean_squared_error(y_true = y_test.values, y_pred = reg.predict(X_test[\"year\"].values.reshape(-1,1)))\n",
    "    elif model == 'mlr':\n",
    "        reg_mlr = linear_model.LinearRegression()\n",
    "        reg_mlr.fit(X = X_train, y = y_train)\n",
    "        test_MSE = mean_squared_error(y_true = y_test.values, y_pred = reg_mlr.predict(X_test))\n",
    "    \n",
    "    return test_MSE"
   ]
  },
  {
   "cell_type": "markdown",
   "id": "2af41fd7",
   "metadata": {},
   "source": [
    "This function will be used to find the CV value over all the years given the training model. We raise an exception whenever we get an inapporopriate start year. If we get the right start year, we loop through the years and finding the cumulative mse error for each year and put in in a dictionary for future use"
   ]
  },
  {
   "cell_type": "code",
   "execution_count": 20,
   "id": "9b576a45-ba2d-4650-bb7d-ed27908b2653",
   "metadata": {
    "id": "9b576a45-ba2d-4650-bb7d-ed27908b2653"
   },
   "outputs": [],
   "source": [
    "def obtainCV(x, y, first_year, model):\n",
    "    \"\"\"\n",
    "    Function to obtain Crossvalidation error for different linear regression models across all the years\n",
    "    \n",
    "    Parameters\n",
    "    ----------\n",
    "    x: Pandas Dataframe or Series\n",
    "     Predictor variables which is usually the year or year and divison based on the models\n",
    "    y: Pandas Series\n",
    "     Response variables which are dependent on the independent variables x, in this case its the enrollment number\n",
    "    first_year: int\n",
    "     Year from which we want to start collecting MSE values for.\n",
    "    model: str\n",
    "     linear model we want to fit. slr for single linear regression and mlr for multivariate linear regression\n",
    "     \n",
    "    \n",
    "    Returns\n",
    "    --------\n",
    "    mse: float\n",
    "     cummulative mean squared error value for the last year\n",
    "    mse_dict: dictionary\n",
    "     dictionary of cummulative mean squared errors for different last years\n",
    "    \n",
    "    \"\"\"\n",
    "    \n",
    "    if first_year < 1989:\n",
    "        raise Exception('first_year is less than 1989')\n",
    "    mse = 0\n",
    "    mse_dict = {}\n",
    "    last_year = int(x['year'].max())\n",
    "    for i in range(first_year,last_year):  \n",
    "        mse += oneStep_mse(x, y, i, model)\n",
    "        mse_dict[i+1] = mse\n",
    "    return mse, mse_dict"
   ]
  },
  {
   "cell_type": "code",
   "execution_count": 21,
   "id": "37a87d45-3f81-45b6-a070-30ffc4932bcf",
   "metadata": {
    "id": "37a87d45-3f81-45b6-a070-30ffc4932bcf",
    "outputId": "1c030d1d-2298-417f-8d4d-063906231503"
   },
   "outputs": [],
   "source": [
    "# Running the function for the start year and different models\n",
    "slr_mse, slr_msedict = obtainCV(nC_data1.drop(\"enrollment\", axis = 1), nC_data1[\"enrollment\"],1989, 'slr')\n",
    "\n",
    "mlr_mse, mlr_msedict = obtainCV(nC_data1.drop(\"enrollment\", axis = 1), nC_data1[\"enrollment\"],1989, 'mlr')"
   ]
  },
  {
   "cell_type": "markdown",
   "id": "3e0edbf5",
   "metadata": {
    "id": "d7969750-839c-46c5-b052-f6136fde6852"
   },
   "source": [
    "Once we obtain the MSE values, we then compare them side by side for different models"
   ]
  },
  {
   "cell_type": "code",
   "execution_count": 22,
   "id": "8dd8d27f-74b5-4ae3-9690-8e9e6853f44f",
   "metadata": {
    "id": "8dd8d27f-74b5-4ae3-9690-8e9e6853f44f"
   },
   "outputs": [
    {
     "name": "stdout",
     "output_type": "stream",
     "text": [
      "The SLR Cummulative MSE for year 1990 is 735386062957.1707 and the MLR Cummulative MSE is 519147666258.7235\n",
      "The Multivariate Linear Regression function performed better for year 1990\n",
      "\n",
      "The SLR Cummulative MSE for year 1991 is 1517659246647.7695 and the MLR Cummulative MSE is 1077427024497.0956\n",
      "The Multivariate Linear Regression function performed better for year 1991\n",
      "\n",
      "The SLR Cummulative MSE for year 1992 is 2347052423718.9766 and the MLR Cummulative MSE is 1669658294697.1494\n",
      "The Multivariate Linear Regression function performed better for year 1992\n",
      "\n",
      "The SLR Cummulative MSE for year 1993 is 3203280113551.451 and the MLR Cummulative MSE is 2283803322079.8213\n",
      "The Multivariate Linear Regression function performed better for year 1993\n",
      "\n",
      "The SLR Cummulative MSE for year 1994 is 4085932704898.1514 and the MLR Cummulative MSE is 2918988177436.3423\n",
      "The Multivariate Linear Regression function performed better for year 1994\n",
      "\n",
      "The SLR Cummulative MSE for year 1995 is 4997127260943.841 and the MLR Cummulative MSE is 3576901669029.0205\n",
      "The Multivariate Linear Regression function performed better for year 1995\n",
      "\n",
      "The SLR Cummulative MSE for year 1996 is 5948774146294.596 and the MLR Cummulative MSE is 4266991782174.912\n",
      "The Multivariate Linear Regression function performed better for year 1996\n",
      "\n"
     ]
    }
   ],
   "source": [
    "# Printing the performance of slr and mlr using mse\n",
    "for i in range(1990,int(nC_data1['year'].max())+1):\n",
    "    print(f\"The SLR Cummulative MSE for year {i} is {slr_msedict[i]} and the MLR Cummulative MSE is {mlr_msedict[i]}\")\n",
    "    if slr_msedict[i] < mlr_msedict[i]:\n",
    "        print(f\"The Single Linear Regression function performed better for year {i}\\n\")\n",
    "    elif slr_msedict[i] > mlr_msedict[i]:\n",
    "        print(f\"The Multivariate Linear Regression function performed better for year {i}\\n\")\n",
    "    else:\n",
    "        #extremely rare scenario\n",
    "        print(f\"Both the models performed the same\\n\")  "
   ]
  },
  {
   "cell_type": "markdown",
   "id": "9fb38f41",
   "metadata": {
    "id": "5c54e655-c174-4451-a903-13194f268eae"
   },
   "source": [
    "Mean Squared Error (MSE) is a measure of the average squared difference between the predicted values and the actual values in a regression model. It is commonly used in machine learning and data science to evaluate the performance of a regression model, particularly in cases where the response variable is continuous.\n",
    "\n",
    "\n",
    "The learnings we have from our MSE results are as follows:\n",
    "\n",
    "* We can see from the above code block that the MSE values for **Multivariate Linear Regression** models are lesser than the MSE values from **Single Linear regression** models which means that the MLR model performs better for our data set.\n",
    "\n",
    "* This is because of the extra predictor variables we have in the MLR model, the extra variables gives us a better fit for the data and thus the error is lesser in the difference between predicted and actual values."
   ]
  }
 ],
 "metadata": {
  "colab": {
   "provenance": []
  },
  "kernelspec": {
   "display_name": "Python 3 (ipykernel)",
   "language": "python",
   "name": "python3"
  },
  "language_info": {
   "codemirror_mode": {
    "name": "ipython",
    "version": 3
   },
   "file_extension": ".py",
   "mimetype": "text/x-python",
   "name": "python",
   "nbconvert_exporter": "python",
   "pygments_lexer": "ipython3",
   "version": "3.10.8"
  }
 },
 "nbformat": 4,
 "nbformat_minor": 5
}
